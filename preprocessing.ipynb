input_folder = '/content/mydrive/MyDrive/PAPER_MURMUR_NORMAL/normalized_npy'
output_folder = '/content/mydrive/MyDrive/PAPER_MURMUR_NORMAL/filtered_npy'
log_path = '/content/mydrive/MyDrive/PAPER_MURMUR_NORMAL/filtered_log.csv'

os.makedirs(output_folder, exist_ok=True)

# Filter Butterworth
def butter_filter(signal, order, cutoff, fs, ftype='low'):
    b, a = butter(order, 2 * cutoff / fs, btype=ftype)
    return filtfilt(b, a, signal)

order = 4
fs = 2000  # misalnya, sampling rate 2kHz
cutoff_high = 60   # untuk high-pass
cutoff_low = 400   # untuk low-pass

log_data = []

for file in sorted(os.listdir(input_folder)):
    if file.endswith('.npy'):
        filepath = os.path.join(input_folder, file)
        signal = np.load(filepath)

        high_passed = butter_filter(signal, order, cutoff_high, fs, ftype='high')
        band_filtered = butter_filter(high_passed, order, cutoff_low, fs, ftype='low')

        output_file = os.path.join(output_folder, file)
        np.save(output_file, band_filtered)

        log_data.append({
            'filename': file,
            'high_pass_cutoff': cutoff_high,
            'low_pass_cutoff': cutoff_low,
            'sampling_rate': fs
        })

df_log = pd.DataFrame(log_data)
df_log.to_csv(log_path, index=False)

print("Filtering selesai. Hasil disimpan di:", output_folder)
output_folder = '/content/mydrive/MyDrive/PAPER_MURMUR_NORMAL/filtered_npy'
filenames = ['25.npy', '75.npy']

plt.figure(figsize=(12, 6))
for i, fname in enumerate(filenames, 1):
    filepath = os.path.join(output_folder, fname)
    signal = np.load(filepath)

    plt.subplot(2, 1, i)
    plt.plot(signal)
    plt.title(f'Filtered Signal - {fname}')
    plt.xlabel('Sample Index')
    plt.ylabel('Amplitude')
    plt.grid(True)

from scipy.io.wavfile import write

input_folder = '/content/mydrive/MyDrive/PAPER_MURMUR_NORMAL/filtered_npy'
wav_output_folder = '/content/mydrive/MyDrive/PAPER_MURMUR_NORMAL/filtered_wav'
fs = 2000  # sampling rate

os.makedirs(wav_output_folder, exist_ok=True)

# Loop semua file .npy untuk dikonversi ke .wav
for file in os.listdir(input_folder):
    if file.endswith('.npy'):
        # Load sinyal
        filepath = os.path.join(input_folder, file)
        signal = np.load(filepath)

        # Normalisasi ke -1 sampai 1 (jika belum)
        signal = signal / np.max(np.abs(signal))

        # Konversi ke tipe data int16 (format umum audio WAV)
        wav_signal = np.int16(signal * 32767)

        # Simpan sebagai WAV
        wav_filename = os.path.splitext(file)[0] + '.wav'
        wav_path = os.path.join(wav_output_folder, wav_filename)
        write(wav_path, fs, wav_signal)

print("Konversi ke WAV selesai. File disimpan di:", wav_output_folder)
